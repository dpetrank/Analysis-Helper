{
 "cells": [
  {
   "cell_type": "code",
   "execution_count": null,
   "metadata": {},
   "outputs": [],
   "source": [
    "def createDataframe(processed_subID_col, processed_stim_col, processed_bi_y, object_list, subID_list):\n",
    "    \n",
    "    # get sizes\n",
    "    num_objects = len(object_list)\n",
    "    num_subjects = len(subID_list)\n",
    "    num_iterations = processed_bi_y.shape[0]\n",
    "    \n",
    "    # initialize the dataframe\n",
    "    ranking_dataframe = pd.DataFrame(data=np.zeros((num_subjects,num_objects)), index=subID_list, columns=object_list)\n",
    "    \n",
    "    # fill the dataframe\n",
    "\n",
    "    # iterate over data rows\n",
    "    for i in range(num_iterations):\n",
    "    \n",
    "        # for each data row, get the subject number and stimulus\n",
    "        current_subject = processed_subID_col[i]\n",
    "        current_object = processed_stim_col[i]\n",
    "\n",
    "        # for the current subject+stimulus, insert the info from the current data row i\n",
    "        ranking_dataframe.at[current_subject,current_object] = processed_bi_y[i]\n",
    "    \n",
    "    return ranking_dataframe"
   ]
  },
  {
   "cell_type": "code",
   "execution_count": null,
   "metadata": {},
   "outputs": [],
   "source": [
    "def getRanking(ranking_dataframe, subject_ID, object_name):\n",
    "    \n",
    "    ranking = ranking_dataframe.at[subject_ID , object_name]\n",
    "    print(\"Subject \"+str(subject_ID)+\" gave \"+object_name+\" a ranking of \"+str(ranking))\n",
    "    \n",
    "    return None"
   ]
  },
  {
   "cell_type": "code",
   "execution_count": null,
   "metadata": {},
   "outputs": [],
   "source": [
    "def favoriteObjects(ranking_dataframe, object_list):\n",
    "    \n",
    "    print(object_list[np.argsort(np.sum(ranking_dataframe.values, axis=0))])\n",
    "    \n",
    "    return None"
   ]
  },
  {
   "cell_type": "code",
   "execution_count": null,
   "metadata": {},
   "outputs": [],
   "source": [
    "def getClusters(ranking_dataframe, num_clusters, object_list):\n",
    "    \n",
    "    # transpose the dataframe\n",
    "    t_dataframe = ranking_dataframe.T\n",
    "\n",
    "    # get numpy array from the dataframe\n",
    "    t_rankings = t_dataframe.values\n",
    "\n",
    "    # apply kmeans to cluster the stimulus-vectors\n",
    "    kmeans_model = KMeans(n_clusters=num_clusters).fit(t_rankings)\n",
    "    \n",
    "    cluster_labels = kmeans_model.labels_\n",
    "\n",
    "    # print out clusters\n",
    "    for i in range(num_clusters):\n",
    "        print(\"cluster \"+str(i)+\": \"+str(object_list[np.where(cluster_labels==i)]))\n",
    "    \n",
    "    return cluster_labels, t_rankings"
   ]
  },
  {
   "cell_type": "code",
   "execution_count": null,
   "metadata": {},
   "outputs": [],
   "source": [
    "def visualizeClusters(cluster_labels, t_rankings):\n",
    "    \n",
    "    # reduce the vectors representing the stimuli to 2d\n",
    "    pca_model = PCA(n_components=2)\n",
    "    pca_components = pca_model.fit_transform(t_rankings)\n",
    "\n",
    "    # visualizing the ranking clusters\n",
    "    x = pca_components[:,0]\n",
    "    y = pca_components[:,1]\n",
    "\n",
    "    fig = plt.figure(figsize = (10, 10))\n",
    "    ax = fig.add_subplot(111)\n",
    "    ax.scatter(x,y, c=cluster_labels, s=100)\n",
    "    \n",
    "    return pca_components"
   ]
  },
  {
   "cell_type": "code",
   "execution_count": null,
   "metadata": {},
   "outputs": [],
   "source": [
    "def visualizePopularity(pca_components, ranking_dataframe):\n",
    "    \n",
    "    # according to preference\n",
    "    x = pca_components[:,0]\n",
    "    y = pca_components[:,1]\n",
    "\n",
    "    popularities = np.argsort(np.sum(ranking_dataframe.values, axis=0))\n",
    "\n",
    "    fig = plt.figure(figsize = (10, 10))\n",
    "    ax = fig.add_subplot(111)\n",
    "    ax.scatter(x,y, c=popularities, s=100, cmap='Greens_r')\n",
    "    \n",
    "    return popularities"
   ]
  },
  {
   "cell_type": "code",
   "execution_count": null,
   "metadata": {},
   "outputs": [],
   "source": [
    "def displayPopularity(popularities, num_clusters, cluster_labels):\n",
    "\n",
    "    # for each cluster get the specific popularities\n",
    "    for i in range(num_clusters):\n",
    "        current_popularities = popularities[np.where(cluster_labels==i)]\n",
    "        print(\"cluster \"+str(i)+\" mean popularity is \"+str(np.mean(current_popularities)))\n",
    "    \n",
    "    return None"
   ]
  }
 ],
 "metadata": {
  "kernelspec": {
   "display_name": "Python 3",
   "language": "python",
   "name": "python3"
  },
  "language_info": {
   "codemirror_mode": {
    "name": "ipython",
    "version": 3
   },
   "file_extension": ".py",
   "mimetype": "text/x-python",
   "name": "python",
   "nbconvert_exporter": "python",
   "pygments_lexer": "ipython3",
   "version": "3.8.3"
  }
 },
 "nbformat": 4,
 "nbformat_minor": 4
}
